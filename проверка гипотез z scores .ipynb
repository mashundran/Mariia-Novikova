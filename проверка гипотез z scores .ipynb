{
 "cells": [
  {
   "cell_type": "code",
   "execution_count": 93,
   "metadata": {},
   "outputs": [],
   "source": [
    "import pandas as pd\n",
    "import numpy as np\n",
    "import matplotlib.pyplot as plt\n",
    "from scipy import stats as stats\n",
    "import seaborn as sns\n",
    "import statsmodels\n",
    "import math as m"
   ]
  },
  {
   "cell_type": "code",
   "execution_count": null,
   "metadata": {},
   "outputs": [],
   "source": [
    "Проверка двусторонней гипотезы о том, что пропорции равны между собой"
   ]
  },
  {
   "cell_type": "code",
   "execution_count": 64,
   "metadata": {},
   "outputs": [
    {
     "name": "stdout",
     "output_type": "stream",
     "text": [
      "(-1.5996822320315116, 0.10966909549819798)\n"
     ]
    }
   ],
   "source": [
    "count = np.array([5, 13])\n",
    "nobs = np.array([83, 99])\n",
    "pval = proportions_ztest(count, nobs, alternative='two-sided')\n",
    "print(pval)"
   ]
  },
  {
   "cell_type": "code",
   "execution_count": 65,
   "metadata": {},
   "outputs": [],
   "source": [
    " def Zcrit (x_1,x_2,n_1,n_2,v):\n",
    "    z=(x_1/n_1-x_2/n_2-v)/(np.sqrt((x_1+x_2)/(n_1+n_2)*(1-(x_1+x_2)/(n_1+n_2))*(1/n_1+1/n_2)))\n",
    "    print('z-критерий=',z)\n",
    "    p_val = stats.norm.cdf(z) * 2.0\n",
    "    print('p_value=',p_val)\n",
    "    if p_val > 0.05:\n",
    "        print('Мы не можем отвергнуть гипотезу')\n",
    "    else:\n",
    "        print('Мы можем отвергнуть гипотезу')\n",
    "        return"
   ]
  },
  {
   "cell_type": "code",
   "execution_count": 66,
   "metadata": {},
   "outputs": [
    {
     "name": "stdout",
     "output_type": "stream",
     "text": [
      "z-критерий= -1.5996822320315116\n",
      "p_value= 0.10966909549819798\n",
      "Мы не можем отвергнуть гипотезу\n"
     ]
    }
   ],
   "source": [
    "Zcrit(5,13,83,99,0)"
   ]
  },
  {
   "cell_type": "code",
   "execution_count": null,
   "metadata": {},
   "outputs": [],
   "source": [
    "Проверка правосторонней гипотезы о том, что 1 пропорция >= 2 пропорции"
   ]
  },
  {
   "cell_type": "code",
   "execution_count": 69,
   "metadata": {},
   "outputs": [
    {
     "name": "stdout",
     "output_type": "stream",
     "text": [
      "(8.266679767214814, 0.9999999999999999)\n"
     ]
    }
   ],
   "source": [
    "count = np.array([50, 4])\n",
    "nobs = np.array([83, 99])\n",
    "pval = proportions_ztest(count, nobs, alternative='smaller')\n",
    "print(pval)"
   ]
  },
  {
   "cell_type": "code",
   "execution_count": 67,
   "metadata": {},
   "outputs": [],
   "source": [
    " def Zcrit (x_1,x_2,n_1,n_2,v):\n",
    "    z=(x_1/n_1-x_2/n_2-v)/(np.sqrt((x_1+x_2)/(n_1+n_2)*(1-(x_1+x_2)/(n_1+n_2))*(1/n_1+1/n_2)))\n",
    "    print('z-критерий=',z)\n",
    "    p_val = stats.norm.cdf(z)\n",
    "    print('p_value=',p_val)\n",
    "    if p_val > 0.05:\n",
    "        print('Мы не можем отвергнуть гипотезу')\n",
    "    else:\n",
    "        print('Мы можем отвергнуть гипотезу')\n",
    "        return"
   ]
  },
  {
   "cell_type": "code",
   "execution_count": 68,
   "metadata": {},
   "outputs": [
    {
     "name": "stdout",
     "output_type": "stream",
     "text": [
      "z-критерий= 8.266679767214814\n",
      "p_value= 0.9999999999999999\n",
      "Мы не можем отвергнуть гипотезу\n"
     ]
    }
   ],
   "source": [
    "Zcrit(50,4,83,99,0)"
   ]
  },
  {
   "cell_type": "code",
   "execution_count": null,
   "metadata": {},
   "outputs": [],
   "source": [
    "Проверка левосторонней гипотезы о том, что 1 пропорция <= 2 пропорции"
   ]
  },
  {
   "cell_type": "code",
   "execution_count": 109,
   "metadata": {},
   "outputs": [
    {
     "name": "stdout",
     "output_type": "stream",
     "text": [
      "(29.89502487586645, 1.141879557812742e-196)\n"
     ]
    }
   ],
   "source": [
    "count = np.array([50, 4])\n",
    "nobs = np.array([10, 99])\n",
    "pval = proportions_ztest(count, nobs, alternative='larger')\n",
    "print(pval)"
   ]
  },
  {
   "cell_type": "code",
   "execution_count": 110,
   "metadata": {},
   "outputs": [],
   "source": [
    " def Zcrit (x_1,x_2,n_1,n_2,v):\n",
    "    z=(x_1/n_1-x_2/n_2-v)/(np.sqrt((x_1+x_2)/(n_1+n_2)*(1-(x_1+x_2)/(n_1+n_2))*(1/n_1+1/n_2)))\n",
    "    print('z-критерий=',z)\n",
    "    p_val =1-stats.norm.cdf(z)\n",
    "    print('p_value=',p_val)\n",
    "    if p_val > 0.05:\n",
    "        print('Мы не можем отвергнуть гипотезу')\n",
    "    else:\n",
    "        print('Мы можем отвергнуть гипотезу')\n",
    "        return"
   ]
  },
  {
   "cell_type": "code",
   "execution_count": 111,
   "metadata": {},
   "outputs": [
    {
     "name": "stdout",
     "output_type": "stream",
     "text": [
      "z-критерий= 29.89502487586645\n",
      "p_value= 0.0\n",
      "Мы можем отвергнуть гипотезу\n"
     ]
    }
   ],
   "source": [
    "Zcrit(50,4,10,99,0)"
   ]
  },
  {
   "cell_type": "code",
   "execution_count": null,
   "metadata": {},
   "outputs": [],
   "source": []
  }
 ],
 "metadata": {
  "kernelspec": {
   "display_name": "Python 3",
   "language": "python",
   "name": "python3"
  },
  "language_info": {
   "codemirror_mode": {
    "name": "ipython",
    "version": 3
   },
   "file_extension": ".py",
   "mimetype": "text/x-python",
   "name": "python",
   "nbconvert_exporter": "python",
   "pygments_lexer": "ipython3",
   "version": "3.7.6"
  }
 },
 "nbformat": 4,
 "nbformat_minor": 2
}
