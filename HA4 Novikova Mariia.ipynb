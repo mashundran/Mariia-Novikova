{
 "cells": [
  {
   "cell_type": "code",
   "execution_count": 13,
   "metadata": {},
   "outputs": [],
   "source": [
    "def fibonacci(n):\n",
    "    fib1 = 0 \n",
    "    fib2 = 1\n",
    " \n",
    "    for i in range(2, n):\n",
    "         fib1, fib2 = fib2, fib1 + fib2\n",
    "    f=fib2\n",
    "    if n == 1:\n",
    "        f=fib1\n",
    "        \n",
    "    if n == 2:\n",
    "        f=fib2\n",
    "        \n",
    "    return f"
   ]
  },
  {
   "cell_type": "code",
   "execution_count": 14,
   "metadata": {},
   "outputs": [
    {
     "data": {
      "text/plain": [
       "34"
      ]
     },
     "execution_count": 14,
     "metadata": {},
     "output_type": "execute_result"
    }
   ],
   "source": [
    "fibonacci(10)"
   ]
  },
  {
   "cell_type": "code",
   "execution_count": 15,
   "metadata": {},
   "outputs": [],
   "source": [
    "import numpy as np"
   ]
  },
  {
   "cell_type": "code",
   "execution_count": 16,
   "metadata": {},
   "outputs": [
    {
     "name": "stdout",
     "output_type": "stream",
     "text": [
      "Введите вектор из целых ненулевых чисел\n",
      "3 4 5 4 3 3\n"
     ]
    }
   ],
   "source": [
    "print('Введите вектор из целых ненулевых чисел')\n",
    "x = [int(i) for i in input().split()]\n",
    "\n",
    "        \n",
    "    "
   ]
  },
  {
   "cell_type": "code",
   "execution_count": 17,
   "metadata": {},
   "outputs": [],
   "source": [
    "def S(x):\n",
    "    if 0 in x:\n",
    "        print ('НЕНУЛЕВЫХ!!')\n",
    "    else:\n",
    "        i=0\n",
    "        y=len(x)\n",
    "        while i < 2*y-2:\n",
    "            x.insert(i+1,0)\n",
    "            i+=2\n",
    "    return x     \n",
    "    "
   ]
  },
  {
   "cell_type": "code",
   "execution_count": 18,
   "metadata": {},
   "outputs": [
    {
     "data": {
      "text/plain": [
       "[3, 0, 4, 0, 5, 0, 4, 0, 3, 0, 3]"
      ]
     },
     "execution_count": 18,
     "metadata": {},
     "output_type": "execute_result"
    }
   ],
   "source": [
    "S(x)"
   ]
  },
  {
   "cell_type": "code",
   "execution_count": null,
   "metadata": {},
   "outputs": [],
   "source": []
  }
 ],
 "metadata": {
  "kernelspec": {
   "display_name": "Python 3",
   "language": "python",
   "name": "python3"
  },
  "language_info": {
   "codemirror_mode": {
    "name": "ipython",
    "version": 3
   },
   "file_extension": ".py",
   "mimetype": "text/x-python",
   "name": "python",
   "nbconvert_exporter": "python",
   "pygments_lexer": "ipython3",
   "version": "3.7.4"
  }
 },
 "nbformat": 4,
 "nbformat_minor": 2
}
